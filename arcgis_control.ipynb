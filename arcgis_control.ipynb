{
 "cells": [
  {
   "cell_type": "code",
   "execution_count": 1,
   "metadata": {},
   "outputs": [],
   "source": [
    "import arcpy\n",
    "import string\n",
    "import numpy as np"
   ]
  },
  {
   "cell_type": "code",
   "execution_count": 6,
   "metadata": {},
   "outputs": [],
   "source": [
    "cursor = arcpy.da.SearchCursor('polygons', ['SHAPE@'])\n",
    "\n",
    "for row in cursor:\n",
    "    print(row[0].centroid)"
   ]
  },
  {
   "cell_type": "code",
   "execution_count": 7,
   "metadata": {},
   "outputs": [
    {
     "name": "stdout",
     "output_type": "stream",
     "text": [
      "['A', 'B', 'C', 'D', 'E', 'F', 'G', 'H', 'I', 'J', 'K', 'L']\n",
      "[ 1  2  3  4  5  6  7  8  9 10 11 12 13 14]\n"
     ]
    }
   ],
   "source": [
    "letters = list(string.ascii_uppercase)[:12]\n",
    "index = np.arange(1, 15, 1)\n",
    "print(letters)\n",
    "print(index)"
   ]
  },
  {
   "cell_type": "code",
   "execution_count": 23,
   "metadata": {},
   "outputs": [
    {
     "name": "stdout",
     "output_type": "stream",
     "text": [
      "2 3\n",
      "[277136, 3292702]\n"
     ]
    }
   ],
   "source": [
    "x_start = 275948\n",
    "width = 594\n",
    "\n",
    "y_start = 3293962\n",
    "height = 420\n",
    "\n",
    "\n",
    "for x, l in enumerate(letters):\n",
    "    for y, i in enumerate(index):\n",
    "        \n",
    "        # Get the coordination of certain subregions\n",
    "        if l == 'C' and i == 4:\n",
    "            \n",
    "            # Calculate the boundary of the polygon\n",
    "            print(x, y)\n",
    "            x_min = x_start + width * x \n",
    "            x_max = x_start + width * (x + 1)\n",
    "            y_min = y_start - height * y\n",
    "            y_max = y_start - height * (y + 1)\n",
    "            feature = [[x_min, y_min], [x_max, y_min], [x_max, y_max], [x_min, y_max]]\n",
    "\n",
    "            # Create the Coordinate object\n",
    "            array = arcpy.Array([arcpy.Point(*coords) for coords in feature])\n",
    "            \n",
    "            # Append the first point as the final point\n",
    "            array.append(array[0])\n",
    "\n",
    "            # Create the Polygon object\n",
    "            sr = arcpy.SpatialReference(6344)\n",
    "            polygon = arcpy.Polygon(array, sr)\n",
    "\n",
    "            # Create the shapefile\n",
    "            arcpy.management.CopyFeatures([polygon,], f\"{l}{i}.shp\")\n"
   ]
  },
  {
   "cell_type": "code",
   "execution_count": 25,
   "metadata": {},
   "outputs": [
    {
     "name": "stdout",
     "output_type": "stream",
     "text": [
      "The name of the layout:  Layout2\n",
      "The name of the map frame:  Map Frame2\n"
     ]
    }
   ],
   "source": [
    "aprx = arcpy.mp.ArcGISProject(\"CURRENT\")\n",
    "\n",
    "# The index of the layout might be different\n",
    "lyt = aprx.listLayouts()[2]\n",
    "print(\"The name of the layout: \", lyt.name)\n",
    "\n",
    "# The index of the map frame might be different\n",
    "mf = lyt.listElements()[0]\n",
    "print(\"The name of the map frame: \", mf.name)\n",
    "\n",
    "# Center the camera of the view\n",
    "mf.camera.X, mf.camera.Y = (x_min + x_max) / 2, (y_min + y_max) / 2"
   ]
  },
  {
   "cell_type": "code",
   "execution_count": 11,
   "metadata": {},
   "outputs": [],
   "source": [
    "x_min, y_min = 277730, 3291442\n",
    "x_max, y_max = 278918, 3292282\n",
    "\n",
    "mf.camera.X, mf.camera.Y = 277730, (y_min + y_max) / 2"
   ]
  },
  {
   "cell_type": "code",
   "execution_count": null,
   "metadata": {},
   "outputs": [],
   "source": []
  }
 ],
 "metadata": {
  "kernelspec": {
   "display_name": "ArcGISPro",
   "language": "Python",
   "name": "python3"
  },
  "language_info": {
   "file_extension": ".py",
   "name": "python",
   "version": "3"
  }
 },
 "nbformat": 4,
 "nbformat_minor": 2
}
